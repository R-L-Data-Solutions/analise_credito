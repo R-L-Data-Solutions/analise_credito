{
 "cells": [
  {
   "cell_type": "markdown",
   "metadata": {},
   "source": [
    "# Análise Exploratória - Lending Club\n",
    "\n",
    "Neste notebook, vamos explorar os dados de empréstimos do Lending Club para entender melhor os padrões e fatores que influenciam o risco de default.\n",
    "\n",
    "## Objetivos:\n",
    "1. Entender a distribuição das variáveis\n",
    "2. Identificar relações entre as features e o default\n",
    "3. Visualizar padrões importantes nos dados"
   ]
  },
  {
   "cell_type": "code",
   "execution_count": null,
   "metadata": {},
   "source": [
    "# Importar bibliotecas necessárias\n",
    "import pandas as pd\n",
    "import numpy as np\n",
    "import matplotlib.pyplot as plt\n",
    "import seaborn as sns\n",
    "\n",
    "# Configurações de visualização\n",
    "plt.style.use('seaborn')\n",
    "sns.set_palette('husl')\n",
    "%matplotlib inline"
   ]
  },
  {
   "cell_type": "code",
   "execution_count": null,
   "metadata": {},
   "source": [
    "# Carregar os dados processados\n",
    "df = pd.read_csv('../data/processed/lending_club_processed.csv')\n",
    "\n",
    "print(f\"Dimensões do dataset: {df.shape}\")\n",
    "print(\"\\nPrimeiras linhas:\")\n",
    "df.head()"
   ]
  },
  {
   "cell_type": "markdown",
   "metadata": {},
   "source": [
    "## 1. Análise da Taxa de Default\n",
    "\n",
    "Vamos começar entendendo a distribuição de empréstimos em default vs. não default"
   ]
  },
  {
   "cell_type": "code",
   "execution_count": null,
   "metadata": {},
   "source": [
    "# Visualizar distribuição de default\n",
    "plt.figure(figsize=(10, 6))\n",
    "sns.countplot(data=df, x='default')\n",
    "plt.title('Distribuição de Default')\n",
    "plt.xlabel('Default (0=Não, 1=Sim)')\n",
    "plt.ylabel('Número de Empréstimos')\n",
    "\n",
    "# Calcular e mostrar percentuais\n",
    "default_rate = (df['default'].mean() * 100)\n",
    "print(f\"Taxa de default: {default_rate:.2f}%\")"
   ]
  },
  {
   "cell_type": "markdown",
   "metadata": {},
   "source": [
    "## 2. Análise por Grade de Crédito\n",
    "\n",
    "Vamos ver como a grade de crédito se relaciona com o default"
   ]
  },
  {
   "cell_type": "code",
   "execution_count": null,
   "metadata": {},
   "source": [
    "# Taxa de default por grade\n",
    "default_by_grade = df.groupby('grade')['default'].mean().sort_index()\n",
    "\n",
    "plt.figure(figsize=(12, 6))\n",
    "default_by_grade.plot(kind='bar')\n",
    "plt.title('Taxa de Default por Grade de Crédito')\n",
    "plt.xlabel('Grade')\n",
    "plt.ylabel('Taxa de Default')\n",
    "\n",
    "# Mostrar valores\n",
    "print(\"\\nTaxa de default por grade:\")\n",
    "print(default_by_grade.multiply(100).round(2))"
   ]
  },
  {
   "cell_type": "markdown",
   "metadata": {},
   "source": [
    "## 3. Análise de Valor do Empréstimo e Taxa de Juros"
   ]
  },
  {
   "cell_type": "code",
   "execution_count": null,
   "metadata": {},
   "source": [
    "# Criar subplot para valor do empréstimo e taxa de juros\n",
    "fig, (ax1, ax2) = plt.subplots(1, 2, figsize=(15, 6))\n",
    "\n",
    "# Boxplot do valor do empréstimo por default\n",
    "sns.boxplot(data=df, x='default', y='loan_amnt', ax=ax1)\n",
    "ax1.set_title('Valor do Empréstimo vs Default')\n",
    "ax1.set_xlabel('Default (0=Não, 1=Sim)')\n",
    "ax1.set_ylabel('Valor do Empréstimo ($)')\n",
    "\n",
    "# Boxplot da taxa de juros por default\n",
    "sns.boxplot(data=df, x='default', y='int_rate', ax=ax2)\n",
    "ax2.set_title('Taxa de Juros vs Default')\n",
    "ax2.set_xlabel('Default (0=Não, 1=Sim)')\n",
    "ax2.set_ylabel('Taxa de Juros (%)')\n",
    "\n",
    "plt.tight_layout()"
   ]
  },
  {
   "cell_type": "markdown",
   "metadata": {},
   "source": [
    "## 4. Análise de Correlações"
   ]
  },
  {
   "cell_type": "code",
   "execution_count": null,
   "metadata": {},
   "source": [
    "# Selecionar apenas colunas numéricas\n",
    "numeric_cols = df.select_dtypes(include=['float64', 'int64']).columns\n",
    "correlation_matrix = df[numeric_cols].corr()\n",
    "\n",
    "# Criar heatmap\n",
    "plt.figure(figsize=(12, 10))\n",
    "sns.heatmap(correlation_matrix, annot=True, cmap='coolwarm', center=0)\n",
    "plt.title('Matriz de Correlação - Features Numéricas')\n",
    "plt.tight_layout()"
   ]
  },
  {
   "cell_type": "markdown",
   "metadata": {},
   "source": [
    "## 5. Análise por Finalidade do Empréstimo"
   ]
  },
  {
   "cell_type": "code",
   "execution_count": null,
   "metadata": {},
   "source": [
    "# Taxa de default por finalidade\n",
    "default_by_purpose = df.groupby('purpose')['default'].agg(['mean', 'count'])\n",
    "default_by_purpose = default_by_purpose.sort_values('mean', ascending=False)\n",
    "\n",
    "plt.figure(figsize=(15, 6))\n",
    "sns.barplot(data=default_by_purpose.reset_index(), x='purpose', y='mean')\n",
    "plt.title('Taxa de Default por Finalidade do Empréstimo')\n",
    "plt.xticks(rotation=45)\n",
    "plt.xlabel('Finalidade')\n",
    "plt.ylabel('Taxa de Default')\n",
    "\n",
    "print(\"\\nTaxa de default por finalidade:\")\n",
    "print(default_by_purpose['mean'].multiply(100).round(2))"
   ]
  }
 ],
 "metadata": {
  "kernelspec": {
   "display_name": "Python 3",
   "language": "python",
   "name": "python3"
  },
  "language_info": {
   "codemirror_mode": {
    "name": "ipython",
    "version": 3
   },
   "file_extension": ".py",
   "mimetype": "text/x-python",
   "name": "python",
   "nbconvert_exporter": "python",
   "pygments_lexer": "ipython3",
   "version": "3.8.0"
  }
 },
 "nbformat": 4,
 "nbformat_minor": 4
}
